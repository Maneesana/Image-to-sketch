{
 "cells": [
  {
   "cell_type": "code",
   "execution_count": 1,
   "id": "d4aa5499",
   "metadata": {},
   "outputs": [],
   "source": [
    "import cv2\n",
    "my_img=cv2.imread(\"park_hye_soo.jpg\")\n",
    "gray_img=cv2.cvtColor(my_img,cv2.COLOR_BGR2GRAY)\n",
    "#inverted color ---> negative image\n",
    "inverted_image=255-gray_img\n",
    "blurred_img=cv2.GaussianBlur(inverted_image,(31,31),0)\n",
    "inverted_blurred_img=255-blurred_img\n",
    "pencil_sketched=cv2.divide(gray_img,inverted_blurred_img,scale=256.0)\n",
    "#creating a normal window\n",
    "\n",
    "cv2.namedWindow(\"Original Image: \",cv2.WINDOW_NORMAL)\n",
    "normal_window_original=cv2.resize(my_img,(120,120))\n",
    "cv2.imshow(\"Original Image: \",my_img)\n",
    "\n",
    "cv2.namedWindow(\"Sketched Image: \",cv2.WINDOW_NORMAL)\n",
    "normal_window_sketched=cv2.resize(pencil_sketched,(201,201))\n",
    "cv2.imshow(\"Sketched Image: \",pencil_sketched)\n",
    "cv2.waitKey(0)\n",
    "cv2.destroyAllWindows()"
   ]
  },
  {
   "cell_type": "code",
   "execution_count": null,
   "id": "90811558",
   "metadata": {},
   "outputs": [],
   "source": []
  }
 ],
 "metadata": {
  "interpreter": {
   "hash": "4905652b14e4b7eb92899b78ac499a22c488804455b27940a322fd82aaf71031"
  },
  "kernelspec": {
   "display_name": "Python 3.8.8 64-bit ('base': conda)",
   "name": "python3"
  },
  "language_info": {
   "codemirror_mode": {
    "name": "ipython",
    "version": 3
   },
   "file_extension": ".py",
   "mimetype": "text/x-python",
   "name": "python",
   "nbconvert_exporter": "python",
   "pygments_lexer": "ipython3",
   "version": "3.8.8"
  }
 },
 "nbformat": 4,
 "nbformat_minor": 5
}
